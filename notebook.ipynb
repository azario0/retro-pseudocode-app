{
 "cells": [
  {
   "cell_type": "code",
   "execution_count": null,
   "id": "dc4d27df",
   "metadata": {},
   "outputs": [],
   "source": [
    "import google.generativeai as genai\n",
    "\n",
    "genai.configure(api_key='YOUR_API_KEY')"
   ]
  },
  {
   "cell_type": "code",
   "execution_count": 3,
   "id": "ef36f86e",
   "metadata": {},
   "outputs": [],
   "source": [
    "model = genai.GenerativeModel('gemini-1.5-flash')"
   ]
  },
  {
   "cell_type": "code",
   "execution_count": 4,
   "id": "89480900",
   "metadata": {},
   "outputs": [],
   "source": [
    "code =\"\"\"\n",
    "print('hello world !')\n",
    "for i in range(5):\n",
    "    print(i**i)\n",
    "\"\"\"\n",
    "\n",
    "prompt_fr = f\"\"\"\n",
    "Vous êtes un générateur de pseudocode.  \n",
    "Votre tâche est de lire le code Python fourni et de produire un pseudocode clair et structuré.  \n",
    "\n",
    "Directives :  \n",
    "- Écrire en français simple, pas en syntaxe Python.  \n",
    "- Utiliser l’indentation pour les boucles et les blocs.  \n",
    "- Être concis mais couvrir toute la logique.  \n",
    "- Ne pas ajouter d’explications, uniquement le pseudocode.  \n",
    "\n",
    "Voici le code Python :  \n",
    "{code}  \n",
    "\n",
    "Générez maintenant le pseudocode :  \n",
    "\"\"\"\n",
    "\n",
    "\n",
    "prompt = f\"\"\"\n",
    "You are a pseudocode generator. \n",
    "Your task is to read the given Python code and output clear, structured pseudocode. \n",
    "\n",
    "Guidelines:\n",
    "- Write in plain English, not Python syntax.  \n",
    "- Use indentation for loops and blocks.  \n",
    "- Be concise but cover all logic.  \n",
    "- Do not add explanations, only pseudocode.  \n",
    "\n",
    "Here is the Python code:\n",
    "{code}\n",
    "\n",
    "Now generate the pseudocode:\n",
    "\"\"\""
   ]
  },
  {
   "cell_type": "code",
   "execution_count": 5,
   "id": "f3effe47",
   "metadata": {},
   "outputs": [
    {
     "name": "stdout",
     "output_type": "stream",
     "text": [
      "Afficher \"hello world !\"\n",
      "\n",
      "Pour i allant de 0 à 4 :\n",
      "  Afficher i puissance i\n",
      "\n"
     ]
    }
   ],
   "source": [
    "response = model.generate_content(prompt_fr)\n",
    "# Print the generated text\n",
    "print(response.text)"
   ]
  },
  {
   "cell_type": "code",
   "execution_count": null,
   "id": "d9dc802e",
   "metadata": {},
   "outputs": [],
   "source": []
  }
 ],
 "metadata": {
  "kernelspec": {
   "display_name": "Python 3",
   "language": "python",
   "name": "python3"
  },
  "language_info": {
   "codemirror_mode": {
    "name": "ipython",
    "version": 3
   },
   "file_extension": ".py",
   "mimetype": "text/x-python",
   "name": "python",
   "nbconvert_exporter": "python",
   "pygments_lexer": "ipython3",
   "version": "3.12.3"
  }
 },
 "nbformat": 4,
 "nbformat_minor": 5
}
